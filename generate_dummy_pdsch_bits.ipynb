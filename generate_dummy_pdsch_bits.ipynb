{
 "cells": [
  {
   "cell_type": "code",
   "execution_count": 74,
   "metadata": {},
   "outputs": [],
   "source": [
    "import numpy as np\n",
    "import sigmf\n",
    "import scipy\n",
    "import matplotlib.pyplot as plt\n",
    "from py3gpp import *"
   ]
  },
  {
   "cell_type": "code",
   "execution_count": 75,
   "metadata": {},
   "outputs": [
    {
     "name": "stdout",
     "output_type": "stream",
     "text": [
      "{'CRC': '24A', 'L': 24, 'BGN': 1, 'C': 2, 'Lcb': 24, 'F': 312, 'Zc': 208, 'K': 4576, 'N': 13728}\n",
      "tbs = 8456 bits, 1057 bytes\n"
     ]
    }
   ],
   "source": [
    "rate = 658 / 1024   # MCS = 16, 64QAM-Table\n",
    "modulation = '16QAM'\n",
    "rv = 0\n",
    "nlayers = 1\n",
    "\n",
    "A = nrTBS(mod, 1, 25 * 11, 12, R)\n",
    "\n",
    "cbs_info = nrDLSCHInfo(A, rate)\n",
    "print(cbs_info)\n",
    "print(f'tbs = {A} bits, {A // 8} bytes')\n",
    "\n",
    "in_ = np.zeros((A, 1), np.uint8)\n",
    "message = \"no data available, subframe index = GENERIC\"\n",
    "for i, character in enumerate(message):\n",
    "    in_[i*8:(i+1)*8, 0] = np.unpackbits(np.uint8(ord(character)), bitorder='big')\n",
    "\n",
    "tb_in = nrCRCEncode(in_, cbs_info['CRC'])\n",
    "\n",
    "cbs_in = nrCodeBlockSegmentLDPC(tb_in, cbs_info['BGN'])\n",
    "\n",
    "enc = nrLDPCEncode(cbs_in, cbs_info['BGN'])\n",
    "\n",
    "outlen = 13200\n",
    "ch_in = nrRateMatchLDPC(enc, outlen, rv, modulation, nlayers)\n",
    "np.savetxt('dummy_pdsch_bits.txt', ch_in, fmt=\"%1d\", delimiter='\\n')"
   ]
  },
  {
   "cell_type": "code",
   "execution_count": 76,
   "metadata": {},
   "outputs": [],
   "source": [
    "ch_out = 1-2*(ch_in)"
   ]
  },
  {
   "cell_type": "code",
   "execution_count": 77,
   "metadata": {},
   "outputs": [
    {
     "name": "stdout",
     "output_type": "stream",
     "text": [
      "decoding finished after 25 iterations\n",
      "code block CRC: 0\n",
      "transport block CRC: [0]\n",
      "output equals input: True\n",
      "message = no data available, subframe index = GENERIC\u0000\u0000\u0000\u0000\u0000\u0000\u0000\n"
     ]
    }
   ],
   "source": [
    "raterec = nrRateRecoverLDPC(ch_out, A, rate, rv, modulation, nlayers)\n",
    "\n",
    "dec_bits, iters = nrLDPCDecode(raterec, cbs_info['BGN'], 25)\n",
    "print(f'decoding finished after {iters} iterations')\n",
    "\n",
    "blk, blk_err = nrCodeBlockDesegmentLDPC(dec_bits, cbs_info['BGN'], A + cbs_info['L'])\n",
    "print(f'code block CRC: {int(blk_err)}')\n",
    "\n",
    "out, tb_err = nrCRCDecode(blk, cbs_info['CRC'])\n",
    "print(f'transport block CRC: {tb_err}')\n",
    "\n",
    "print(f'output equals input: {np.array_equal(in_, out)}')\n",
    "\n",
    "rx_bytes = np.packbits(out[:, 0], axis = None, bitorder = 'big')\n",
    "# print(f'received {rx_bytes.shape[0]} bytes')\n",
    "id_string = \"\".join([str(chr(character)) for character in rx_bytes[:50]])\n",
    "print(f'message = {id_string}')\n"
   ]
  }
 ],
 "metadata": {
  "kernelspec": {
   "display_name": "Python 3",
   "language": "python",
   "name": "python3"
  },
  "language_info": {
   "codemirror_mode": {
    "name": "ipython",
    "version": 3
   },
   "file_extension": ".py",
   "mimetype": "text/x-python",
   "name": "python",
   "nbconvert_exporter": "python",
   "pygments_lexer": "ipython3",
   "version": "3.10.12"
  }
 },
 "nbformat": 4,
 "nbformat_minor": 2
}
